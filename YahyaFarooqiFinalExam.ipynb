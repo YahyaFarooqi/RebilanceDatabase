{
 "cells": [
  {
   "cell_type": "code",
   "execution_count": 1,
   "id": "3659fead-9a37-4a77-80a1-c959915a31ce",
   "metadata": {},
   "outputs": [],
   "source": [
    "###### Ignore this\n",
    "import pytest\n",
    "import hashlib\n",
    "import copy\n",
    "_ = 123456789  # just a wrong number, please ignore\n",
    "###### Stop ignoring\n",
    "\n",
    "\n",
    "###### Read but don't change\n",
    "# Some stuff you can/should use ...\n",
    "# feel free to import additional things from those packages already imported\n",
    "# or the Python Standard Library (https://docs.python.org/3/library/)\n",
    "# (if it helps) but do not import other 3rd party packages\n",
    "\n",
    "import numpy as np\n",
    "import pandas as pd\n",
    "from cobra.io import read_sbml_model\n"
   ]
  },
  {
   "cell_type": "code",
   "execution_count": 2,
   "id": "a041199f-882b-477b-a012-345d5898138d",
   "metadata": {},
   "outputs": [
    {
     "name": "stdout",
     "output_type": "stream",
     "text": [
      "Scaling...\n",
      " A: min|aij| =  1.000e+00  max|aij| =  1.000e+00  ratio =  1.000e+00\n",
      "Problem data seem to be well scaled\n"
     ]
    }
   ],
   "source": [
    "# Read model iML1515 GSM of Escherichia coli; don't change the following 4 lines\n",
    "model = read_sbml_model(\"iML1515.xml.gz\")\n",
    "medium = model.medium\n",
    "del medium[\"EX_co2_e\"]\n",
    "model.medium = medium\n",
    "model_original = copy.deepcopy(model)\n",
    "######\n",
    "\n",
    "# ------------------------------------------------------------------------------\n",
    "# General hints:\n",
    "# 1. Use the iML1515 genome-scale model (`model`) in its default configuration\n",
    "#    as configured above if not stated otherwise.\n",
    "# 2. Remember to undo modifications to the model before continuing with the next task\n",
    "#    (either make a copy of the model (`model.copy()`) for each task or use the\n",
    "#    `with model: ...` construct).\n"
   ]
  },
  {
   "cell_type": "code",
   "execution_count": 3,
   "id": "8f2057c7-07c5-460f-b474-30864cb32c40",
   "metadata": {},
   "outputs": [
    {
     "name": "stdout",
     "output_type": "stream",
     "text": [
      "['6pgg_c', 'dtdp4d6dg_c', 'udcpgl_c', 'udpg_e', '2doxg6p_c', 'adpglc_c', 'acglc__D_c', 'udpg_c', 'udpg_p', 'dtdpglu_c', '2dglc_p', '2dglc_e', '2dglc_c']\n",
      "['6pgg_c', 'dtdp4d6dg_c', 'udcpgl_c', 'udpg_e', '2doxg6p_c', 'adpglc_c', 'acglc__D_c', 'udpg_c', 'udpg_p', 'dtdpglu_c', '2dglc_p', '2dglc_e', '2dglc_c']\n"
     ]
    }
   ],
   "source": [
    "# ------------------------------------------------------------------------------\n",
    "# 1. Find all metabolites in the model that contain `glucose` in their name (exact spelling).\n",
    "# Hints:\n",
    "# * The `name` attribute contains the name of a metabolite\n",
    "#   (e.g. model.metabolites.g3p_c.name => 'Glyceraldehyde 3-phosphate')\n",
    "# * The `id` attribute contains the identifier of a metabolite\n",
    "#   (e.g. model.metabolites.g3p_c.id => 'g3p_c')\n",
    "\n",
    "\n",
    "GN = []\n",
    "for metabolites in model.metabolites:\n",
    "    if 'glucose' in metabolites.name:\n",
    "         GN.append(metabolites.id)\n",
    "print(GN)\n",
    "\n",
    "# metabolites_glucose_ids needs to be a list of metabolite\n",
    "# identifiers (see test_task1 at the bottom)\n",
    "\n",
    "metabolites_glucose_ids = GN\n",
    "\n",
    "print(metabolites_glucose_ids)\n"
   ]
  },
  {
   "cell_type": "code",
   "execution_count": 82,
   "id": "6da44ab4-15c3-4c57-bb5f-bcfd7b287c58",
   "metadata": {},
   "outputs": [
    {
     "name": "stdout",
     "output_type": "stream",
     "text": [
      "105.09258\n",
      "147.1955\n",
      "180.15588\n",
      "Theoretical max. yield [g-L-serine / g-glc]: 1.166684984137071\n",
      "Theoretical max. yield [g-L-lysine / g-glc]: 0.6309767859552149\n",
      "0.6309767859552149\n",
      "1.166684984137071\n"
     ]
    }
   ],
   "source": [
    "# ------------------------------------------------------------------------------\n",
    "# 2. Based on the model, what is the theoretical maximum mass-yield\n",
    "#    of L-serine in units of g-L-serine/g-glucose? and what's the maximum \n",
    "#    mass-yield of L-lysine in units of g-L-lysine/g-glucose\n",
    "\n",
    "# Hints:\n",
    "# * The `formula_weight` attribute contains the molecular weight (g/mol) of a metabolite\n",
    "#   (e.g. model.metabolites.g3p_c.formula_weight => 168.041961 (g/mol))\n",
    "# * Important: We don't want to optimize serine and lysine production at the same time\n",
    "\n",
    "ser_mw = model.metabolites.ser__L_e.formula_weight\n",
    "lys_mw = model.metabolites.lys__L_e.formula_weight\n",
    "glu_mw = model.metabolites.glc__D_e.formula_weight\n",
    "\n",
    "print(ser_mw)\n",
    "print(lys_mw)\n",
    "print(glu_mw)\n",
    "    \n",
    "#1\n",
    "    \n",
    "with model:\n",
    "    model.objective = model.reactions.EX_ser__L_e\n",
    "    LS_production = model.optimize().objective_value\n",
    "    print(\"Theoretical max. yield [g-L-serine / g-glc]:\", ((LS_production/1000)*ser_mw) / (((-1*model.reactions.EX_glc__D_e.flux)/1000)*glu_mw))\n",
    "\n",
    "\n",
    "#2\n",
    "\n",
    "with model:\n",
    "    model.objective = model.reactions.EX_lys__L_e\n",
    "    LL_production = model.optimize().objective_value\n",
    "    print(\"Theoretical max. yield [g-L-lysine / g-glc]:\", ((LL_production/1000)*lys_mw) / (((-1*model.reactions.EX_glc__D_e.flux)/1000)*glu_mw))\n",
    "    \n",
    "    \n",
    "    \n",
    "    \n",
    "# Replace _ with you're final calculation step or a variable that contains the final solution.\n",
    "# maximum_mass_yield_acetate needs to be a floating points number (see also test_task2_1 and test_task2_2 at the bottom)\n",
    "\n",
    "maximum_mass_yield_lysine = (((LL_production/1000)*lys_mw) / (((-1*model.reactions.EX_glc__D_e.flux)/1000)*glu_mw))\n",
    "\n",
    "maximum_mass_yield_serine = (((LS_production/1000)*ser_mw) / (((-1*model.reactions.EX_glc__D_e.flux)/1000)*glu_mw))\n",
    "\n",
    "print(maximum_mass_yield_lysine)\n",
    "print(maximum_mass_yield_serine)\n",
    "\n"
   ]
  },
  {
   "cell_type": "code",
   "execution_count": 48,
   "id": "64f7bd27-e0dc-446a-b7d1-514835500a96",
   "metadata": {},
   "outputs": [
    {
     "name": "stdout",
     "output_type": "stream",
     "text": [
      "{'EX_pi_e': 1000.0, 'EX_fe3_e': 1000.0, 'EX_h_e': 1000.0, 'EX_mn2_e': 1000.0, 'EX_fe2_e': 1000.0, 'EX_glc__D_e': 10.0, 'EX_zn2_e': 1000.0, 'EX_mg2_e': 1000.0, 'EX_ca2_e': 1000.0, 'EX_ni2_e': 1000.0, 'EX_cu2_e': 1000.0, 'EX_sel_e': 1000.0, 'EX_cobalt2_e': 1000.0, 'EX_h2o_e': 1000.0, 'EX_mobd_e': 1000.0, 'EX_so4_e': 1000.0, 'EX_nh4_e': 1000.0, 'EX_k_e': 1000.0, 'EX_na1_e': 1000.0, 'EX_cl_e': 1000.0, 'EX_o2_e': 1000.0, 'EX_tungs_e': 1000.0, 'EX_slnt_e': 1000.0}\n",
      "Maximize\n",
      "1.0*BIOMASS_Ec_iML1515_core_75p37M - 1.0*BIOMASS_Ec_iML1515_core_75p37M_reverse_35685\n"
     ]
    }
   ],
   "source": [
    "print(model.medium)\n",
    "print(model.objective)\n",
    "#model.reactions.BIOMASS_Ec_iML1515_core_75p37M.summary()"
   ]
  },
  {
   "cell_type": "code",
   "execution_count": 80,
   "id": "2b22e86a-f8e5-4901-97c1-acd00f8f85a5",
   "metadata": {},
   "outputs": [
    {
     "name": "stdout",
     "output_type": "stream",
     "text": [
      "15799.62049226394\n",
      "2835.9115172732663\n",
      "0.17949238202663348\n"
     ]
    }
   ],
   "source": [
    "# ------------------------------------------------------------------------------\n",
    "# 3. Based on the model, what is the ratio in the theoretical maximum biomass yield\n",
    "#    in units of gDW-biomass/g-glucose between anaerobic and aerobic conditions (ratio anaerobic/aerobic)?\n",
    "# Hints:\n",
    "# * The `formula_weight` attribute contains the molecular weight (g/mol) of a metabolite\n",
    "#   (e.g. model.metabolites.g3p_c.formula_weight => 168.041961 (g/mol))\n",
    "\n",
    "\n",
    "\n",
    "# aerobic (normal conditions)\n",
    "\n",
    "medium = model.medium\n",
    "with model:\n",
    "    #print(model.medium)\n",
    "    solution = model.optimize()\n",
    "    g_dw_biomass_per_g_glucose = (solution.objective_value / ((-1*model.reactions.EX_glc__D_e.flux)/1000)*glu_mw)  \n",
    "    \n",
    "# anaerobic conditions\n",
    "\n",
    "medium = model.medium\n",
    "with model:\n",
    "    medium['EX_o2_e'] = 0\n",
    "    model.medium = medium\n",
    "    #print(model.medium)\n",
    "    solution = model.optimize()\n",
    "    an_g_dw_biomass_per_g_glucose = (solution.objective_value / ((-1*model.reactions.EX_glc__D_e.flux)/1000)*glu_mw)\n",
    "    \n",
    "    \n",
    "print(g_dw_biomass_per_g_glucose)\n",
    "print(an_g_dw_biomass_per_g_glucose)\n",
    "\n",
    "\n",
    "\n",
    "# Replace _ with you're final calculation step or a variable that contains the final solution.\n",
    "# gDW_biomass_per_g_glucose needs to be floating point number (see also test_task3 at the bottom)\n",
    "\n",
    "ratio_anaerobic_aerobic = (an_g_dw_biomass_per_g_glucose / g_dw_biomass_per_g_glucose)\n",
    "print(ratio_anaerobic_aerobic)\n"
   ]
  },
  {
   "cell_type": "code",
   "execution_count": 22,
   "id": "db86205e-d86d-4872-871d-e342d094530b",
   "metadata": {},
   "outputs": [
    {
     "name": "stdout",
     "output_type": "stream",
     "text": [
      "6.86\n",
      "0.686\n",
      "0.09002218039520235\n",
      "0.0876997214426963\n",
      "1.0264819421806666\n",
      "6.86\n",
      "1.0264819421806666\n"
     ]
    }
   ],
   "source": [
    "# ------------------------------------------------------------------------------\n",
    "# 4. Non-growth associated maintenance (NGAM) costs are included in the\n",
    "#    model via the ATP hydrolizing reaction ATPM ('ATP maintenance requirement')    \n",
    "#    Based on the constraints imposed in the model, what is the minimum allowed flux for NGAM?\n",
    "#    What is the fold change in growth rate if the minimum allowed flux for NGAM is reduced by 10 (minimum allowed flux/10)?\n",
    "# Hint:\n",
    "# * In order to not freely generate ATP, ATPM need to be irreversible.\n",
    "# Put your intermediate solution steps here\n",
    "\n",
    "min_flux = model.reactions.get_by_id('ATPM').lower_bound \n",
    "print(min_flux)\n",
    "\n",
    "\n",
    "with model:\n",
    "    model.reactions.get_by_id('ATPM').lower_bound = (min_flux/10)\n",
    "    print(model.reactions.get_by_id('ATPM').lower_bound)\n",
    "    solution1 = model.optimize()\n",
    "    ATPM_dw_biomass_per_mmol_glucose = solution1.objective_value / (-1. * solution1.fluxes['EX_glc__D_e'])\n",
    "    print(ATPM_dw_biomass_per_mmol_glucose)\n",
    "    \n",
    "solution2 = model.optimize()\n",
    "Original_dw_biomass_per_mmol_glucose = solution2.objective_value / (-1. * solution2.fluxes['EX_glc__D_e'])\n",
    "print(Original_dw_biomass_per_mmol_glucose)\n",
    "\n",
    "\n",
    "fold_change = ATPM_dw_biomass_per_mmol_glucose / Original_dw_biomass_per_mmol_glucose\n",
    "print(fold_change)\n",
    "\n",
    "\n",
    "# Replace _ with you're final calculation step or a variable that contains the final solution.\n",
    "# growth_fold_change needs to be the fold change growth_without_ATPM / growth_with_ATPM\n",
    "\n",
    "minimum_ATPM = min_flux\n",
    "print(minimum_ATPM)\n",
    "\n",
    "growth_fold_change = fold_change\n",
    "print(growth_fold_change)"
   ]
  },
  {
   "cell_type": "code",
   "execution_count": 66,
   "id": "81ba1c31-f0f2-4615-beed-496d0a16412b",
   "metadata": {},
   "outputs": [
    {
     "data": {
      "text/html": [
       "\n",
       "        <table>\n",
       "            <tr>\n",
       "                <td><strong>Reaction identifier</strong></td><td>EX_gthrd_e</td>\n",
       "            </tr><tr>\n",
       "                <td><strong>Name</strong></td><td>Reduced glutathione exchange</td>\n",
       "            </tr><tr>\n",
       "                <td><strong>Memory address</strong></td>\n",
       "                <td>0x7f9e45ea2bb0</td>\n",
       "            </tr><tr>\n",
       "                <td><strong>Stoichiometry</strong></td>\n",
       "                <td>\n",
       "                    <p style='text-align:right'>gthrd_e --></p>\n",
       "                    <p style='text-align:right'>Reduced glutathione --></p>\n",
       "                </td>\n",
       "            </tr><tr>\n",
       "                <td><strong>GPR</strong></td><td></td>\n",
       "            </tr><tr>\n",
       "                <td><strong>Lower bound</strong></td><td>-0.0</td>\n",
       "            </tr><tr>\n",
       "                <td><strong>Upper bound</strong></td><td>1000.0</td>\n",
       "            </tr>\n",
       "        </table>\n",
       "        "
      ],
      "text/plain": [
       "<Reaction EX_gthrd_e at 0x7f9e45ea2bb0>"
      ]
     },
     "execution_count": 66,
     "metadata": {},
     "output_type": "execute_result"
    }
   ],
   "source": [
    "model.reactions.get_by_id('EX_gthrd_e')"
   ]
  },
  {
   "cell_type": "code",
   "execution_count": 72,
   "id": "b51ce009-d822-4cf4-b8c1-73ab42249e01",
   "metadata": {},
   "outputs": [],
   "source": [
    "\n",
    "#model.exchanges\n",
    "\n",
    "\n"
   ]
  },
  {
   "cell_type": "code",
   "execution_count": 87,
   "id": "8e8b0343-8278-4ac6-84e5-b238676683b5",
   "metadata": {},
   "outputs": [],
   "source": [
    "# ------------------------------------------------------------------------------\n",
    "# 5. Using the model, compute the top 5 carbon sources that facilitate the\n",
    "#    highest L-Methionine yields (c-mol-L-Methionine/c-mol-carbon-source). Use the flux of the \n",
    "#    L-Methionine exchange reaction (`model.reactions.EX_met__L_e`) to compute the yields.\n",
    "# Hints:\n",
    "# * The `elements` attribute of a metabolite contains its elemental composition\n",
    "#   (e.g. model.metabolites.g3p_c.elements => {'C': 3, 'H': 5, 'O': 6, 'P': 1})\n",
    "# * Some carbon sources will lead to infeasible solutions. Use model.slim_optimize(error_value=0.)\n",
    "#   to compute the maximum EX_met__L_e flux for each carbon source or use solution = model.optimize() and then\n",
    "#   check the status via solution.status (which can be 'optimal', 'infeasible', and other status codes).\n",
    "#   Only if it is 'optimal' procede with your calculations.\n",
    "#   If it is not 'optimal' (e.g. 'infeasible'), assume a ATPM flux of 0.\n",
    "# * There are different approaches to sorting containers like dictionaries in Python, pandas has also been\n",
    "#   imported above as `pd` which might be helpful.\n",
    "\n",
    "\n",
    "\n",
    "\n",
    "\n",
    "CS = []\n",
    "for metabolites in model.metabolites:\n",
    "    if 'C' in metabolites.elements:\n",
    "           CS.append(metabolites.id)\n",
    "#print(CS)\n",
    "\n",
    "# I attempted to crosslist the metabolites that had carbon to the exchange reactions, in order to iterativley go through each \n",
    "# exchange to see which carbon source was best. It did not work out well, as I could not manage to achieve an answer to this question. \n",
    "\n",
    "#Carbon_source = []\n",
    "#for exchanges in model.exchanges:\n",
    "  #  with model:\n",
    "   #     model.objective = sorted(exchanges)\n",
    "    #    met_growth = model.slim_optimize(error_value=0.)\n",
    "        \n",
    "\n",
    "\n",
    "\n",
    "\n",
    "\n",
    "\n",
    "\n",
    "\n",
    "\n",
    "\n",
    "\n",
    "        \n",
    "        \n",
    "        \n",
    "\n",
    "\n",
    "\n",
    "\n",
    "\n",
    "\n",
    "\n",
    "\n",
    "\n",
    "# Replace _ with you're final calculation step or a variable that contains the final solution.\n",
    "# atp_yields_cmol_top10 needs to be a dictionary of carbon source exchange reactions IDs (keys)\n",
    "# that correspond to the ten highest L-Methionine c-mol yields (values; see also test_task5 below).\n",
    "\n",
    "met_yields_cmol_top5 = _\n"
   ]
  },
  {
   "cell_type": "code",
   "execution_count": null,
   "id": "285891a7-2882-4860-93b5-0c8a0f30f7f6",
   "metadata": {},
   "outputs": [],
   "source": []
  }
 ],
 "metadata": {
  "kernelspec": {
   "display_name": "Python 3 (ipykernel)",
   "language": "python",
   "name": "python3"
  },
  "language_info": {
   "codemirror_mode": {
    "name": "ipython",
    "version": 3
   },
   "file_extension": ".py",
   "mimetype": "text/x-python",
   "name": "python",
   "nbconvert_exporter": "python",
   "pygments_lexer": "ipython3",
   "version": "3.9.12"
  }
 },
 "nbformat": 4,
 "nbformat_minor": 5
}
